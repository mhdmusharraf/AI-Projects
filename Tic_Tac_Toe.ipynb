{
  "nbformat": 4,
  "nbformat_minor": 0,
  "metadata": {
    "colab": {
      "provenance": [],
      "authorship_tag": "ABX9TyNPbd9VbsSx2aV6AeOadeYI",
      "include_colab_link": true
    },
    "kernelspec": {
      "name": "python3",
      "display_name": "Python 3"
    },
    "language_info": {
      "name": "python"
    }
  },
  "cells": [
    {
      "cell_type": "markdown",
      "metadata": {
        "id": "view-in-github",
        "colab_type": "text"
      },
      "source": [
        "<a href=\"https://colab.research.google.com/github/mhdmusharraf/AI-Projects/blob/main/Tic_Tac_Toe.ipynb\" target=\"_parent\"><img src=\"https://colab.research.google.com/assets/colab-badge.svg\" alt=\"Open In Colab\"/></a>"
      ]
    },
    {
      "cell_type": "code",
      "execution_count": 11,
      "metadata": {
        "id": "gNNsZLsPapcT"
      },
      "outputs": [],
      "source": [
        "def main():\n",
        "    choice = int(input(\"Enter 1 for Single Player, 2 for Multiplayer: \"))\n",
        "    board = [0, 0, 0, 0, 0, 0, 0, 0, 0]\n",
        "\n",
        "    if choice == 1:\n",
        "        print(\"Computer: O Vs. You: X\")\n",
        "        player = int(input(\"Enter to play 1(st) or 2(nd): \"))\n",
        "\n",
        "        if player == 1:\n",
        "            ConstBoard(board)\n",
        "            User1Turn(board)\n",
        "\n",
        "        for i in range(1, 10):\n",
        "            if analyzeboard(board) != 0:\n",
        "                break\n",
        "            if i % 2 == 0:\n",
        "                ConstBoard(board)\n",
        "                User1Turn(board)\n",
        "            else:\n",
        "                CompTurn(board)\n",
        "\n",
        "    else:\n",
        "        player = int(input(\"Enter to play 1(st) or 2(nd): \"))\n",
        "        for i in range(0, 9):\n",
        "            if analyzeboard(board) != 0:\n",
        "                break\n",
        "            if (i + player) % 2 == 0:\n",
        "                ConstBoard(board)\n",
        "                User1Turn(board)\n",
        "            else:\n",
        "                ConstBoard(board)\n",
        "                User2Turn(board)\n",
        "\n",
        "    x = analyzeboard(board)\n",
        "    if x == 0:\n",
        "        ConstBoard(board)\n",
        "        print(\"Draw!\")\n",
        "    elif x == -1:\n",
        "        ConstBoard(board)\n",
        "        print(\"Player X Wins!!!! O Loses\")\n",
        "    elif x == 1:\n",
        "        ConstBoard(board)\n",
        "        print(\"Player O Wins!!!! X Loses\")\n",
        "\n",
        "\n"
      ]
    },
    {
      "cell_type": "code",
      "source": [
        "\n",
        "main()"
      ],
      "metadata": {
        "colab": {
          "base_uri": "https://localhost:8080/"
        },
        "id": "lRGvAJYBcKcE",
        "outputId": "bfa27f96-f883-45db-f505-e2babdda8b6d"
      },
      "execution_count": 15,
      "outputs": [
        {
          "output_type": "stream",
          "name": "stdout",
          "text": [
            "Enter 1 for Single Player, 2 for Multiplayer: 2\n",
            "Enter to play 1(st) or 2(nd): 2\n",
            "Current State of the Board: \n",
            "\n",
            "\n",
            "_  _  _  \n",
            "\n",
            "_  _  _  \n",
            "\n",
            "_  _  _  \n",
            "\n",
            "\n",
            "Enter X's position from [1,2,3,...,9]2\n",
            "Current State of the Board: \n",
            "\n",
            "\n",
            "_  X  _  \n",
            "\n",
            "_  _  _  \n",
            "\n",
            "_  _  _  \n",
            "\n",
            "\n",
            "Enter O's position from [1,2,3,...,9]1\n",
            "Current State of the Board: \n",
            "\n",
            "\n",
            "O  X  _  \n",
            "\n",
            "_  _  _  \n",
            "\n",
            "_  _  _  \n",
            "\n",
            "\n",
            "Enter X's position from [1,2,3,...,9]3\n",
            "Current State of the Board: \n",
            "\n",
            "\n",
            "O  X  X  \n",
            "\n",
            "_  _  _  \n",
            "\n",
            "_  _  _  \n",
            "\n",
            "\n",
            "Enter O's position from [1,2,3,...,9]5\n",
            "Current State of the Board: \n",
            "\n",
            "\n",
            "O  X  X  \n",
            "\n",
            "_  O  _  \n",
            "\n",
            "_  _  _  \n",
            "\n",
            "\n",
            "Enter X's position from [1,2,3,...,9]6\n",
            "Current State of the Board: \n",
            "\n",
            "\n",
            "O  X  X  \n",
            "\n",
            "_  O  X  \n",
            "\n",
            "_  _  _  \n",
            "\n",
            "\n",
            "Enter O's position from [1,2,3,...,9]9\n",
            "Current State of the Board: \n",
            "\n",
            "\n",
            "O  X  X  \n",
            "\n",
            "_  O  X  \n",
            "\n",
            "_  _  O  \n",
            "\n",
            "\n",
            "Player O Wins!!!! X Loses\n"
          ]
        }
      ]
    }
  ]
}